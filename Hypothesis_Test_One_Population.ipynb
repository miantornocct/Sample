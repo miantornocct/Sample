{
 "cells": [
  {
   "cell_type": "code",
   "execution_count": null,
   "id": "f8c98071",
   "metadata": {},
   "outputs": [],
   "source": [
    "# IMPORTING LIBRARIES\n",
    "import pandas as pd\n",
    "import numpy as np\n",
    "\n",
    "#Statistical libraries\n",
    "import scipy.stats as stats\n",
    "from statsmodels.stats import weightstats"
   ]
  },
  {
   "cell_type": "code",
   "execution_count": 29,
   "id": "539ca06d",
   "metadata": {},
   "outputs": [
    {
     "data": {
      "text/html": [
       "<div>\n",
       "<style scoped>\n",
       "    .dataframe tbody tr th:only-of-type {\n",
       "        vertical-align: middle;\n",
       "    }\n",
       "\n",
       "    .dataframe tbody tr th {\n",
       "        vertical-align: top;\n",
       "    }\n",
       "\n",
       "    .dataframe thead th {\n",
       "        text-align: right;\n",
       "    }\n",
       "</style>\n",
       "<table border=\"1\" class=\"dataframe\">\n",
       "  <thead>\n",
       "    <tr style=\"text-align: right;\">\n",
       "      <th></th>\n",
       "      <th>R&amp;D Spend</th>\n",
       "      <th>Administration</th>\n",
       "      <th>Marketing Spend</th>\n",
       "      <th>State</th>\n",
       "      <th>Profit</th>\n",
       "    </tr>\n",
       "  </thead>\n",
       "  <tbody>\n",
       "    <tr>\n",
       "      <th>0</th>\n",
       "      <td>165349.20</td>\n",
       "      <td>136897.80</td>\n",
       "      <td>471784.10</td>\n",
       "      <td>New York</td>\n",
       "      <td>192261.83</td>\n",
       "    </tr>\n",
       "    <tr>\n",
       "      <th>1</th>\n",
       "      <td>162597.70</td>\n",
       "      <td>151377.59</td>\n",
       "      <td>443898.53</td>\n",
       "      <td>California</td>\n",
       "      <td>191792.06</td>\n",
       "    </tr>\n",
       "    <tr>\n",
       "      <th>2</th>\n",
       "      <td>153441.51</td>\n",
       "      <td>101145.55</td>\n",
       "      <td>407934.54</td>\n",
       "      <td>Florida</td>\n",
       "      <td>191050.39</td>\n",
       "    </tr>\n",
       "    <tr>\n",
       "      <th>3</th>\n",
       "      <td>144372.41</td>\n",
       "      <td>118671.85</td>\n",
       "      <td>383199.62</td>\n",
       "      <td>New York</td>\n",
       "      <td>182901.99</td>\n",
       "    </tr>\n",
       "    <tr>\n",
       "      <th>4</th>\n",
       "      <td>142107.34</td>\n",
       "      <td>91391.77</td>\n",
       "      <td>366168.42</td>\n",
       "      <td>Florida</td>\n",
       "      <td>166187.94</td>\n",
       "    </tr>\n",
       "  </tbody>\n",
       "</table>\n",
       "</div>"
      ],
      "text/plain": [
       "   R&D Spend  Administration  Marketing Spend       State     Profit\n",
       "0  165349.20       136897.80        471784.10    New York  192261.83\n",
       "1  162597.70       151377.59        443898.53  California  191792.06\n",
       "2  153441.51       101145.55        407934.54     Florida  191050.39\n",
       "3  144372.41       118671.85        383199.62    New York  182901.99\n",
       "4  142107.34        91391.77        366168.42     Florida  166187.94"
      ]
     },
     "execution_count": 29,
     "metadata": {},
     "output_type": "execute_result"
    }
   ],
   "source": [
    "# Import dataset\n",
    "dataset = pd.read_csv('C:/Users/miant/Desktop/Python/50_Startups.csv')\n",
    "dataset.head()"
   ]
  },
  {
   "cell_type": "markdown",
   "id": "ddab2900",
   "metadata": {},
   "source": [
    "# H.T. --> Normal (Z TEST)\n"
   ]
  },
  {
   "cell_type": "markdown",
   "id": "6a2a6648",
   "metadata": {},
   "source": [
    "We want to know whether the average of the Adm spend is 115000 USD"
   ]
  },
  {
   "cell_type": "code",
   "execution_count": 5,
   "id": "a6d8d6f8",
   "metadata": {},
   "outputs": [],
   "source": [
    "#H0: mu = 115000\n",
    "#H1: mu different than 115000\n"
   ]
  },
  {
   "cell_type": "markdown",
   "id": "d42c36f7",
   "metadata": {},
   "source": [
    "We define our variable --> We need to create \"X\""
   ]
  },
  {
   "cell_type": "code",
   "execution_count": 6,
   "id": "d88123eb",
   "metadata": {},
   "outputs": [],
   "source": [
    "X = dataset['Administration']"
   ]
  },
  {
   "cell_type": "code",
   "execution_count": 9,
   "id": "0f5bbfcc",
   "metadata": {},
   "outputs": [],
   "source": [
    "mu = 115000"
   ]
  },
  {
   "cell_type": "code",
   "execution_count": 11,
   "id": "2529d658",
   "metadata": {},
   "outputs": [
    {
     "data": {
      "text/plain": [
       "1.6012453669179458"
      ]
     },
     "execution_count": 11,
     "metadata": {},
     "output_type": "execute_result"
    }
   ],
   "source": [
    "#We compute z and p-value\n",
    "\n",
    "z_score, p_value = weightstats.ztest(X, value = mu, ddof = 1, alternative = 'two-sided')\n",
    "\n",
    "z_score\n"
   ]
  },
  {
   "cell_type": "code",
   "execution_count": 12,
   "id": "0fe16812",
   "metadata": {},
   "outputs": [
    {
     "data": {
      "text/plain": [
       "0.10932258426192785"
      ]
     },
     "execution_count": 12,
     "metadata": {},
     "output_type": "execute_result"
    }
   ],
   "source": [
    "p_value"
   ]
  },
  {
   "cell_type": "markdown",
   "id": "ad13a90d",
   "metadata": {},
   "source": [
    "To give interpretation and understand the result we need to compare p-value with alpha. Alpha = 0.05, p-value = 0.10, when p-value is greater than alpha, then we accept H0"
   ]
  },
  {
   "cell_type": "markdown",
   "id": "2e1ce15a",
   "metadata": {},
   "source": [
    "In this case, we accept H0, then we have evidence to say that the average spend in Adm is 115000 USD"
   ]
  },
  {
   "cell_type": "markdown",
   "id": "67b62c82",
   "metadata": {},
   "source": [
    "# Now we want to see if the Adm spend is greater than 111000 USD"
   ]
  },
  {
   "cell_type": "code",
   "execution_count": 13,
   "id": "c8a3d2b4",
   "metadata": {},
   "outputs": [],
   "source": [
    "#H0: mu = 111000\n",
    "#H1: mu > 111000\n",
    "\n",
    "#I will call \"mu1\" to the average that we will use in this case\n",
    "\n",
    "mu1 = 111000"
   ]
  },
  {
   "cell_type": "code",
   "execution_count": 14,
   "id": "e0b337bc",
   "metadata": {},
   "outputs": [],
   "source": [
    "#We compute z and p-value\n",
    "\n",
    "z_score, p_value = weightstats.ztest(X, value = mu1, ddof = 1, alternative = 'larger')\n",
    "#If you want to do H1< mu, then in \"alternative\" we need to use \"smaller\""
   ]
  },
  {
   "cell_type": "code",
   "execution_count": 15,
   "id": "56004d31",
   "metadata": {},
   "outputs": [
    {
     "data": {
      "text/plain": [
       "0.004517115635626599"
      ]
     },
     "execution_count": 15,
     "metadata": {},
     "output_type": "execute_result"
    }
   ],
   "source": [
    "p_value"
   ]
  },
  {
   "cell_type": "code",
   "execution_count": 16,
   "id": "a36a9fe4",
   "metadata": {},
   "outputs": [
    {
     "data": {
      "text/plain": [
       "2.610756051759962"
      ]
     },
     "execution_count": 16,
     "metadata": {},
     "output_type": "execute_result"
    }
   ],
   "source": [
    "z_score"
   ]
  },
  {
   "cell_type": "markdown",
   "id": "1ea9ee0a",
   "metadata": {},
   "source": [
    "In this case p-value is less than alpha, so we reject H0. If we reject H0, we \"accept\" H1, then, we have enough evidence to say that the average spend in Adm is greater than 111000 USD"
   ]
  },
  {
   "cell_type": "markdown",
   "id": "51ea5375",
   "metadata": {},
   "source": [
    "If we want to work with alpha = 0.03, then we just compare the result of p-value with that one. \n",
    "\n"
   ]
  },
  {
   "cell_type": "code",
   "execution_count": 22,
   "id": "8d6bcddd",
   "metadata": {},
   "outputs": [
    {
     "name": "stdout",
     "output_type": "stream",
     "text": [
      "Reject H0\n"
     ]
    }
   ],
   "source": [
    "alpha = 0.03\n",
    "\n",
    "if p_value < alpha:\n",
    "    print(f\"Reject H0\")\n",
    "else:\n",
    "    print(f\"We accept H0\")"
   ]
  },
  {
   "cell_type": "markdown",
   "id": "df643992",
   "metadata": {},
   "source": [
    "# T- TEST\n"
   ]
  },
  {
   "cell_type": "code",
   "execution_count": 26,
   "id": "945c0828",
   "metadata": {},
   "outputs": [
    {
     "name": "stdout",
     "output_type": "stream",
     "text": [
      "T-statistic: 1.6012453669179458\n",
      "P-value: 0.11575077118592211\n"
     ]
    }
   ],
   "source": [
    "#H0: mu = 115000\n",
    "#H1: mu different than 115000\n",
    "\n",
    "stats.ttest_1samp(X,115000)\n",
    "\n",
    "t_stat, p_value = stats.ttest_1samp(X, mu)\n",
    "print(\"T-statistic:\", t_stat)\n",
    "print(\"P-value:\", p_value)"
   ]
  },
  {
   "cell_type": "code",
   "execution_count": 28,
   "id": "43cab50f",
   "metadata": {},
   "outputs": [
    {
     "name": "stdout",
     "output_type": "stream",
     "text": [
      "P-value for one tailed test: 0.05787538559296106\n"
     ]
    }
   ],
   "source": [
    "# Adjusting the p-value for one-tailed test (H1 > mu)\n",
    "\n",
    "#H0: mu = 115000\n",
    "#H1: mu > 115000\n",
    "\n",
    "p_value_one_tailed = p_value / 2\n",
    "\n",
    "print(\"P-value for one tailed test:\", p_value_one_tailed)"
   ]
  },
  {
   "cell_type": "code",
   "execution_count": null,
   "id": "dd977e85",
   "metadata": {},
   "outputs": [],
   "source": [
    "\n"
   ]
  }
 ],
 "metadata": {
  "kernelspec": {
   "display_name": "Python 3",
   "language": "python",
   "name": "python3"
  },
  "language_info": {
   "codemirror_mode": {
    "name": "ipython",
    "version": 3
   },
   "file_extension": ".py",
   "mimetype": "text/x-python",
   "name": "python",
   "nbconvert_exporter": "python",
   "pygments_lexer": "ipython3",
   "version": "3.8.8"
  }
 },
 "nbformat": 4,
 "nbformat_minor": 5
}
