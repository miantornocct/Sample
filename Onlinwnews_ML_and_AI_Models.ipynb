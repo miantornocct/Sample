{
 "cells": [
  {
   "cell_type": "markdown",
   "id": "6bcdc6db",
   "metadata": {},
   "source": [
    "# Preparing the data"
   ]
  },
  {
   "cell_type": "code",
   "execution_count": 1,
   "id": "8d856d02",
   "metadata": {},
   "outputs": [],
   "source": [
    "# Importing the libraries\n",
    "import numpy as np\n",
    "import matplotlib.pyplot as plt\n",
    "import pandas as pd\n",
    "import seaborn as sns"
   ]
  },
  {
   "cell_type": "code",
   "execution_count": 2,
   "id": "fe7f300d",
   "metadata": {},
   "outputs": [
    {
     "data": {
      "text/html": [
       "<div>\n",
       "<style scoped>\n",
       "    .dataframe tbody tr th:only-of-type {\n",
       "        vertical-align: middle;\n",
       "    }\n",
       "\n",
       "    .dataframe tbody tr th {\n",
       "        vertical-align: top;\n",
       "    }\n",
       "\n",
       "    .dataframe thead th {\n",
       "        text-align: right;\n",
       "    }\n",
       "</style>\n",
       "<table border=\"1\" class=\"dataframe\">\n",
       "  <thead>\n",
       "    <tr style=\"text-align: right;\">\n",
       "      <th></th>\n",
       "      <th>url</th>\n",
       "      <th>timedelta</th>\n",
       "      <th>n_tokens_title</th>\n",
       "      <th>n_tokens_content</th>\n",
       "      <th>n_unique_tokens</th>\n",
       "      <th>n_non_stop_words</th>\n",
       "      <th>n_non_stop_unique_tokens</th>\n",
       "      <th>num_hrefs</th>\n",
       "      <th>num_self_hrefs</th>\n",
       "      <th>num_imgs</th>\n",
       "      <th>...</th>\n",
       "      <th>min_positive_polarity</th>\n",
       "      <th>max_positive_polarity</th>\n",
       "      <th>avg_negative_polarity</th>\n",
       "      <th>min_negative_polarity</th>\n",
       "      <th>max_negative_polarity</th>\n",
       "      <th>title_subjectivity</th>\n",
       "      <th>title_sentiment_polarity</th>\n",
       "      <th>abs_title_subjectivity</th>\n",
       "      <th>abs_title_sentiment_polarity</th>\n",
       "      <th>shares</th>\n",
       "    </tr>\n",
       "  </thead>\n",
       "  <tbody>\n",
       "    <tr>\n",
       "      <th>0</th>\n",
       "      <td>http://mashable.com/2013/01/07/amazon-instant-...</td>\n",
       "      <td>731.0</td>\n",
       "      <td>12.0</td>\n",
       "      <td>219.0</td>\n",
       "      <td>0.663594</td>\n",
       "      <td>1.0</td>\n",
       "      <td>0.815385</td>\n",
       "      <td>4.0</td>\n",
       "      <td>2.0</td>\n",
       "      <td>1.0</td>\n",
       "      <td>...</td>\n",
       "      <td>0.100000</td>\n",
       "      <td>0.7</td>\n",
       "      <td>-0.350000</td>\n",
       "      <td>-0.600</td>\n",
       "      <td>-0.200000</td>\n",
       "      <td>0.500000</td>\n",
       "      <td>-0.187500</td>\n",
       "      <td>0.000000</td>\n",
       "      <td>0.187500</td>\n",
       "      <td>593</td>\n",
       "    </tr>\n",
       "    <tr>\n",
       "      <th>1</th>\n",
       "      <td>http://mashable.com/2013/01/07/ap-samsung-spon...</td>\n",
       "      <td>731.0</td>\n",
       "      <td>9.0</td>\n",
       "      <td>255.0</td>\n",
       "      <td>0.604743</td>\n",
       "      <td>1.0</td>\n",
       "      <td>0.791946</td>\n",
       "      <td>3.0</td>\n",
       "      <td>1.0</td>\n",
       "      <td>1.0</td>\n",
       "      <td>...</td>\n",
       "      <td>0.033333</td>\n",
       "      <td>0.7</td>\n",
       "      <td>-0.118750</td>\n",
       "      <td>-0.125</td>\n",
       "      <td>-0.100000</td>\n",
       "      <td>0.000000</td>\n",
       "      <td>0.000000</td>\n",
       "      <td>0.500000</td>\n",
       "      <td>0.000000</td>\n",
       "      <td>711</td>\n",
       "    </tr>\n",
       "    <tr>\n",
       "      <th>2</th>\n",
       "      <td>http://mashable.com/2013/01/07/apple-40-billio...</td>\n",
       "      <td>731.0</td>\n",
       "      <td>9.0</td>\n",
       "      <td>211.0</td>\n",
       "      <td>0.575130</td>\n",
       "      <td>1.0</td>\n",
       "      <td>0.663866</td>\n",
       "      <td>3.0</td>\n",
       "      <td>1.0</td>\n",
       "      <td>1.0</td>\n",
       "      <td>...</td>\n",
       "      <td>0.100000</td>\n",
       "      <td>1.0</td>\n",
       "      <td>-0.466667</td>\n",
       "      <td>-0.800</td>\n",
       "      <td>-0.133333</td>\n",
       "      <td>0.000000</td>\n",
       "      <td>0.000000</td>\n",
       "      <td>0.500000</td>\n",
       "      <td>0.000000</td>\n",
       "      <td>1500</td>\n",
       "    </tr>\n",
       "    <tr>\n",
       "      <th>3</th>\n",
       "      <td>http://mashable.com/2013/01/07/astronaut-notre...</td>\n",
       "      <td>731.0</td>\n",
       "      <td>9.0</td>\n",
       "      <td>531.0</td>\n",
       "      <td>0.503788</td>\n",
       "      <td>1.0</td>\n",
       "      <td>0.665635</td>\n",
       "      <td>9.0</td>\n",
       "      <td>0.0</td>\n",
       "      <td>1.0</td>\n",
       "      <td>...</td>\n",
       "      <td>0.136364</td>\n",
       "      <td>0.8</td>\n",
       "      <td>-0.369697</td>\n",
       "      <td>-0.600</td>\n",
       "      <td>-0.166667</td>\n",
       "      <td>0.000000</td>\n",
       "      <td>0.000000</td>\n",
       "      <td>0.500000</td>\n",
       "      <td>0.000000</td>\n",
       "      <td>1200</td>\n",
       "    </tr>\n",
       "    <tr>\n",
       "      <th>4</th>\n",
       "      <td>http://mashable.com/2013/01/07/att-u-verse-apps/</td>\n",
       "      <td>731.0</td>\n",
       "      <td>13.0</td>\n",
       "      <td>1072.0</td>\n",
       "      <td>0.415646</td>\n",
       "      <td>1.0</td>\n",
       "      <td>0.540890</td>\n",
       "      <td>19.0</td>\n",
       "      <td>19.0</td>\n",
       "      <td>20.0</td>\n",
       "      <td>...</td>\n",
       "      <td>0.033333</td>\n",
       "      <td>1.0</td>\n",
       "      <td>-0.220192</td>\n",
       "      <td>-0.500</td>\n",
       "      <td>-0.050000</td>\n",
       "      <td>0.454545</td>\n",
       "      <td>0.136364</td>\n",
       "      <td>0.045455</td>\n",
       "      <td>0.136364</td>\n",
       "      <td>505</td>\n",
       "    </tr>\n",
       "  </tbody>\n",
       "</table>\n",
       "<p>5 rows × 61 columns</p>\n",
       "</div>"
      ],
      "text/plain": [
       "                                                 url   timedelta  \\\n",
       "0  http://mashable.com/2013/01/07/amazon-instant-...       731.0   \n",
       "1  http://mashable.com/2013/01/07/ap-samsung-spon...       731.0   \n",
       "2  http://mashable.com/2013/01/07/apple-40-billio...       731.0   \n",
       "3  http://mashable.com/2013/01/07/astronaut-notre...       731.0   \n",
       "4   http://mashable.com/2013/01/07/att-u-verse-apps/       731.0   \n",
       "\n",
       "    n_tokens_title   n_tokens_content   n_unique_tokens   n_non_stop_words  \\\n",
       "0             12.0              219.0          0.663594                1.0   \n",
       "1              9.0              255.0          0.604743                1.0   \n",
       "2              9.0              211.0          0.575130                1.0   \n",
       "3              9.0              531.0          0.503788                1.0   \n",
       "4             13.0             1072.0          0.415646                1.0   \n",
       "\n",
       "    n_non_stop_unique_tokens   num_hrefs   num_self_hrefs   num_imgs  ...  \\\n",
       "0                   0.815385         4.0              2.0        1.0  ...   \n",
       "1                   0.791946         3.0              1.0        1.0  ...   \n",
       "2                   0.663866         3.0              1.0        1.0  ...   \n",
       "3                   0.665635         9.0              0.0        1.0  ...   \n",
       "4                   0.540890        19.0             19.0       20.0  ...   \n",
       "\n",
       "    min_positive_polarity   max_positive_polarity   avg_negative_polarity  \\\n",
       "0                0.100000                     0.7               -0.350000   \n",
       "1                0.033333                     0.7               -0.118750   \n",
       "2                0.100000                     1.0               -0.466667   \n",
       "3                0.136364                     0.8               -0.369697   \n",
       "4                0.033333                     1.0               -0.220192   \n",
       "\n",
       "    min_negative_polarity   max_negative_polarity   title_subjectivity  \\\n",
       "0                  -0.600               -0.200000             0.500000   \n",
       "1                  -0.125               -0.100000             0.000000   \n",
       "2                  -0.800               -0.133333             0.000000   \n",
       "3                  -0.600               -0.166667             0.000000   \n",
       "4                  -0.500               -0.050000             0.454545   \n",
       "\n",
       "    title_sentiment_polarity   abs_title_subjectivity  \\\n",
       "0                  -0.187500                 0.000000   \n",
       "1                   0.000000                 0.500000   \n",
       "2                   0.000000                 0.500000   \n",
       "3                   0.000000                 0.500000   \n",
       "4                   0.136364                 0.045455   \n",
       "\n",
       "    abs_title_sentiment_polarity   shares  \n",
       "0                       0.187500      593  \n",
       "1                       0.000000      711  \n",
       "2                       0.000000     1500  \n",
       "3                       0.000000     1200  \n",
       "4                       0.136364      505  \n",
       "\n",
       "[5 rows x 61 columns]"
      ]
     },
     "execution_count": 2,
     "metadata": {},
     "output_type": "execute_result"
    }
   ],
   "source": [
    "dataset = pd.read_csv('C:/Users/miant/Desktop/LYIT_Data/OnlineNewsPopularity.csv')\n",
    "dataset.head()"
   ]
  },
  {
   "cell_type": "code",
   "execution_count": 3,
   "id": "91035ede",
   "metadata": {},
   "outputs": [
    {
     "data": {
      "text/plain": [
       "False"
      ]
     },
     "execution_count": 3,
     "metadata": {},
     "output_type": "execute_result"
    }
   ],
   "source": [
    "#Checking missing data\n",
    "dataset.isnull().values.any()"
   ]
  },
  {
   "cell_type": "code",
   "execution_count": 4,
   "id": "7c884314",
   "metadata": {},
   "outputs": [
    {
     "data": {
      "text/plain": [
       "(39644, 61)"
      ]
     },
     "execution_count": 4,
     "metadata": {},
     "output_type": "execute_result"
    }
   ],
   "source": [
    "dataset.shape"
   ]
  },
  {
   "cell_type": "code",
   "execution_count": null,
   "id": "a61a5d93",
   "metadata": {},
   "outputs": [],
   "source": []
  },
  {
   "cell_type": "markdown",
   "id": "9f93d595",
   "metadata": {},
   "source": [
    "# RANDOM FOREST REGRESSION"
   ]
  },
  {
   "cell_type": "code",
   "execution_count": 5,
   "id": "7a5cdd15",
   "metadata": {},
   "outputs": [],
   "source": [
    "#Define X and y\n",
    "# X: 2 = n_tokens_title,3 = n_tokens_content,6=n_non_stop_unique_tokens,7=num_hrefs,8=num_self_hrefs,\n",
    "#9= num_imgs,10= num_videos,12=num_keywords,38 = is_weekend,44 =global_subjectivity,46= global_rate_positive_words,  \n",
    "#48= rate_positive_words, 56 = title_subjectivity\n",
    "\n",
    "#y:\n",
    "\n",
    "X = dataset.iloc[:,[2, 3, 6, 7, 8, 9, 10, 12, 38, 44, 46, 48, 56]].values\n",
    "y = dataset.iloc[:, -1].values"
   ]
  },
  {
   "cell_type": "code",
   "execution_count": 6,
   "id": "d8e22428",
   "metadata": {},
   "outputs": [],
   "source": [
    "# Splitting the dataset into the Training set and Test set\n",
    "from sklearn.model_selection import train_test_split\n",
    "X_train, X_test, y_train, y_test = train_test_split(X, y, test_size = 0.2, random_state = 0)"
   ]
  },
  {
   "cell_type": "code",
   "execution_count": 7,
   "id": "3d08e777",
   "metadata": {},
   "outputs": [
    {
     "name": "stdout",
     "output_type": "stream",
     "text": [
      "[[-0.66046517  0.20310677  0.21737485 ...  0.66120764  0.27129988\n",
      "  -0.66583771]\n",
      " [ 0.28693992  3.27275386 -0.7364249  ...  0.91595022 -0.14503681\n",
      "  -0.56306836]\n",
      " [-0.18676263 -0.01780683 -0.14172357 ... -1.10327543  0.27129988\n",
      "   1.90339607]\n",
      " ...\n",
      " [ 0.28693992 -1.15393392 -4.31854226 ... -2.27054884 -3.55938674\n",
      "   1.90339607]\n",
      " [ 0.76064247  0.16102799  0.28531226 ...  0.5716558   0.48895252\n",
      "  -0.25476031]\n",
      " [-0.18676263 -0.7541855   0.72359669 ...  0.44378072  1.66427683\n",
      "   0.82431788]]\n",
      "[[-1.13416772  0.55025672 -0.30820492 ... -1.13864735 -0.57443613\n",
      "  -0.87137641]\n",
      " [ 0.76064247 -0.89725335  0.7162089  ... -0.86147065 -1.6005129\n",
      "   0.46462515]\n",
      " [ 0.76064247  0.72067578 -1.20996549 ... -0.08392096  0.99457637\n",
      "   2.21170413]\n",
      " ...\n",
      " [-1.13416772  0.39666917 -0.73457172 ...  0.13973325 -0.32071533\n",
      "  -0.87137641]\n",
      " [-0.66046517  0.11053346 -1.22568596 ... -1.22175077 -0.17936914\n",
      "  -0.87137641]\n",
      " [-1.13416772 -0.15666681  0.50812069 ... -0.21539542 -0.94755496\n",
      "  -0.87137641]]\n"
     ]
    }
   ],
   "source": [
    "\n",
    "\n",
    "# Feature Scaling\n",
    "from sklearn.preprocessing import StandardScaler\n",
    "sc = StandardScaler()\n",
    "X_train = sc.fit_transform(X_train)\n",
    "X_test = sc.transform(X_test)\n",
    "print(X_train)\n",
    "print(X_test)"
   ]
  },
  {
   "cell_type": "code",
   "execution_count": 8,
   "id": "a6be3500",
   "metadata": {},
   "outputs": [
    {
     "data": {
      "text/plain": [
       "RandomForestRegressor(n_estimators=10, random_state=0)"
      ]
     },
     "execution_count": 8,
     "metadata": {},
     "output_type": "execute_result"
    }
   ],
   "source": [
    "#RANDOM FOREST REGRESSION\n",
    "# Training the Random Forest Regression model \n",
    "from sklearn.ensemble import RandomForestRegressor\n",
    "regressor = RandomForestRegressor(n_estimators = 10, random_state = 0)\n",
    "regressor.fit(X_train, y_train)"
   ]
  },
  {
   "cell_type": "code",
   "execution_count": 9,
   "id": "4fc2a121",
   "metadata": {},
   "outputs": [
    {
     "name": "stdout",
     "output_type": "stream",
     "text": [
      "[[ 1441.    919. ]\n",
      " [ 2991.3  1600. ]\n",
      " [ 5154.1 11700. ]\n",
      " ...\n",
      " [ 8607.  12700. ]\n",
      " [ 1883.3   651. ]\n",
      " [ 1478.   2200. ]]\n"
     ]
    }
   ],
   "source": [
    "# Predicting the Test set results\n",
    "y_pred = regressor.predict(X_test)\n",
    "np.set_printoptions(precision=2)\n",
    "print(np.concatenate((y_pred.reshape(len(y_pred),1), y_test.reshape(len(y_test),1)),1))"
   ]
  },
  {
   "cell_type": "code",
   "execution_count": 10,
   "id": "05ef8f4a",
   "metadata": {},
   "outputs": [
    {
     "data": {
      "text/plain": [
       "-0.6935636006730714"
      ]
     },
     "execution_count": 10,
     "metadata": {},
     "output_type": "execute_result"
    }
   ],
   "source": [
    "# Evaluating the Model Performance\n",
    "from sklearn.metrics import r2_score\n",
    "r2_score(y_test, y_pred)"
   ]
  },
  {
   "cell_type": "code",
   "execution_count": 11,
   "id": "19db2c36",
   "metadata": {},
   "outputs": [
    {
     "name": "stdout",
     "output_type": "stream",
     "text": [
      "It would have  [12390.] shares\n"
     ]
    }
   ],
   "source": [
    "#PREDICTION: How many shares would it have an article that has 20 words in the title, 700 words in the content, 70% non stop rating,\n",
    "#2 links, 1 link to another Mashable article, 2 images, 1 video, 20 keywords,1 means weekend, 50% rate of subjetivity in the text, \n",
    "# 8% of positive content rate, 8% rate positive words,60% title subjetivity\n",
    "\n",
    "print('It would have ', regressor.predict([[20,500, 0.70,2,1,2,1,20,1,0.50,0.08,0.08,0.60]]), 'shares')\n"
   ]
  },
  {
   "cell_type": "markdown",
   "id": "c1128578",
   "metadata": {},
   "source": [
    "# Decision Tree Regressor\n"
   ]
  },
  {
   "cell_type": "code",
   "execution_count": 12,
   "id": "4ad2f502",
   "metadata": {},
   "outputs": [],
   "source": [
    "# Decision Tree Regression\n",
    "# Importing the libraries\n",
    "import numpy as np\n",
    "import matplotlib.pyplot as plt\n",
    "import pandas as pd\n",
    "\n",
    "\n",
    "X2 = dataset.iloc[:,[2, 3, 9, 10, 13, 14, 15, 16, 17, 18, 31, 32, 33, 34, 35, 36, 37]]\n",
    "y2 = dataset.iloc[:, -1].values\n",
    "\n"
   ]
  },
  {
   "cell_type": "code",
   "execution_count": 13,
   "id": "a4302672",
   "metadata": {},
   "outputs": [],
   "source": [
    "# Splitting the dataset into the Training set and Test set\n",
    "from sklearn.model_selection import train_test_split\n",
    "X2_train, X2_test, y2_train, y2_test = train_test_split(X2, y2, test_size = 0.2, random_state = 0)"
   ]
  },
  {
   "cell_type": "code",
   "execution_count": 14,
   "id": "142dd7c0",
   "metadata": {},
   "outputs": [
    {
     "data": {
      "text/plain": [
       "DecisionTreeRegressor(random_state=0)"
      ]
     },
     "execution_count": 14,
     "metadata": {},
     "output_type": "execute_result"
    }
   ],
   "source": [
    "# Training the Decision Tree Regression model on the Training set\n",
    "from sklearn.tree import DecisionTreeRegressor\n",
    "regressor2 = DecisionTreeRegressor(random_state = 0)\n",
    "regressor2.fit(X2_train, y2_train)"
   ]
  },
  {
   "cell_type": "code",
   "execution_count": 15,
   "id": "bc564019",
   "metadata": {},
   "outputs": [
    {
     "name": "stdout",
     "output_type": "stream",
     "text": [
      "[[ 1800.   919.]\n",
      " [ 5000.  1600.]\n",
      " [ 3000. 11700.]\n",
      " ...\n",
      " [ 2900. 12700.]\n",
      " [ 5600.   651.]\n",
      " [13800.  2200.]]\n"
     ]
    }
   ],
   "source": [
    "# Predicting the Test set results\n",
    "y2_pred = regressor2.predict(X2_test)\n",
    "np.set_printoptions(precision=2)\n",
    "print(np.concatenate((y2_pred.reshape(len(y2_pred),1), y2_test.reshape(len(y2_test),1)),1))"
   ]
  },
  {
   "cell_type": "code",
   "execution_count": 16,
   "id": "b92e665e",
   "metadata": {},
   "outputs": [
    {
     "name": "stdout",
     "output_type": "stream",
     "text": [
      "The precision of the model is \n",
      "0.9721008783783794\n"
     ]
    }
   ],
   "source": [
    "#We calculate the precision of the model or r^2\n",
    "print('The precision of the model is ')\n",
    "print(regressor2.score(X2_train, y2_train))"
   ]
  },
  {
   "cell_type": "code",
   "execution_count": 17,
   "id": "dcb4e198",
   "metadata": {},
   "outputs": [
    {
     "name": "stdout",
     "output_type": "stream",
     "text": [
      "[744.]\n"
     ]
    }
   ],
   "source": [
    "print(regressor2.predict([[20, 500, 1, 5, 1, 0, 0, 0, 0, 0, 1, 0, 0, 0, 0, 0, 0]]))"
   ]
  },
  {
   "cell_type": "markdown",
   "id": "6045537d",
   "metadata": {},
   "source": [
    "# CLUSTERING"
   ]
  },
  {
   "cell_type": "code",
   "execution_count": 18,
   "id": "2f7d92ac",
   "metadata": {},
   "outputs": [],
   "source": [
    "#X1 = dataset.iloc[:, [2,3, 7, 8]].values 'n_tokens_title'\n",
    "\n",
    "X1 = dataset.iloc[:, [2,3, 7, 8]].values"
   ]
  },
  {
   "cell_type": "code",
   "execution_count": 19,
   "id": "7a1794a7",
   "metadata": {},
   "outputs": [
    {
     "data": {
      "image/png": "[encoded data removed]",
      "text/plain": [
       "<Figure size 432x288 with 1 Axes>"
      ]
     },
     "metadata": {
      "needs_background": "light"
     },
     "output_type": "display_data"
    }
   ],
   "source": [
    "#Using the elbow method to find the optimal number of clusters\n",
    "from sklearn.cluster import KMeans\n",
    "wcss = []\n",
    "for i in range(1, 11):\n",
    "    kmeans = KMeans(n_clusters = i, init = 'k-means++', random_state = 0)\n",
    "    kmeans.fit(X1)\n",
    "    wcss.append(kmeans.inertia_)\n",
    "plt.plot(range(1, 11), wcss)\n",
    "plt.title('The Elbow Method')\n",
    "plt.xlabel('Number of clusters')\n",
    "plt.ylabel('WCSS')\n",
    "plt.show()"
   ]
  },
  {
   "cell_type": "code",
   "execution_count": 20,
   "id": "56e59d0c",
   "metadata": {},
   "outputs": [],
   "source": [
    "#Importing and Fitting K-Means to dataset\n",
    "kmeans = KMeans(n_clusters = 3, init = 'k-means++', random_state = 0)\n",
    "y1 = kmeans.fit_predict(X1)"
   ]
  },
  {
   "cell_type": "code",
   "execution_count": 21,
   "id": "cfead996",
   "metadata": {},
   "outputs": [
    {
     "data": {
      "text/plain": [
       "array([0, 0, 0, ..., 0, 2, 0])"
      ]
     },
     "execution_count": 21,
     "metadata": {},
     "output_type": "execute_result"
    }
   ],
   "source": [
    "y1"
   ]
  },
  {
   "cell_type": "code",
   "execution_count": 22,
   "id": "cb98560b",
   "metadata": {},
   "outputs": [
    {
     "data": {
      "image/png": "[encoded data removed]",
      "text/plain": [
       "<Figure size 432x288 with 1 Axes>"
      ]
     },
     "metadata": {
      "needs_background": "light"
     },
     "output_type": "display_data"
    }
   ],
   "source": [
    "# Plotting results to show the clusters\n",
    "\n",
    "plt.scatter(X1[y1 == 0, 0], X1[y1 == 0, 1], s = 50, c = 'purple', label = 'Non popular')\n",
    "plt.scatter(X1[y1 == 1, 0], X1[y1 == 1, 1], s = 50, c = 'lightblue', label = 'Popular')\n",
    "plt.scatter(X1[y1 == 2, 0], X1[y1 == 2, 1], s = 50, c = 'green', label = 'Medium popular')\n",
    "plt.title('Clusters by Popularity')\n",
    "plt.xlabel( 'Number of words and links')\n",
    "plt.ylabel('Number of shares')\n",
    "plt.legend()\n",
    "plt.show()"
   ]
  },
  {
   "cell_type": "code",
   "execution_count": 23,
   "id": "5a169b13",
   "metadata": {},
   "outputs": [],
   "source": [
    "#Green is non popular, purple is medium popular, light blue is popular"
   ]
  },
  {
   "cell_type": "markdown",
   "id": "af1735fe",
   "metadata": {},
   "source": [
    "# Classification model: K-NN"
   ]
  },
  {
   "cell_type": "code",
   "execution_count": 24,
   "id": "0f7555da",
   "metadata": {},
   "outputs": [
    {
     "name": "stdout",
     "output_type": "stream",
     "text": [
      "0        0\n",
      "1        0\n",
      "2        0\n",
      "3        0\n",
      "4        2\n",
      "        ..\n",
      "39639    0\n",
      "39640    0\n",
      "39641    0\n",
      "39642    2\n",
      "39643    0\n",
      "Name: Popularity, Length: 39644, dtype: int32\n"
     ]
    }
   ],
   "source": [
    "#Adding the cluster column to the dataset\n",
    "dataset['Popularity']= y1\n",
    "dataset.head\n",
    "print(dataset['Popularity'])"
   ]
  },
  {
   "cell_type": "code",
   "execution_count": 25,
   "id": "b4e16047",
   "metadata": {},
   "outputs": [
    {
     "data": {
      "text/plain": [
       "(39644, 62)"
      ]
     },
     "execution_count": 25,
     "metadata": {},
     "output_type": "execute_result"
    }
   ],
   "source": [
    "dataset.shape"
   ]
  },
  {
   "cell_type": "code",
   "execution_count": 26,
   "id": "634cd356",
   "metadata": {},
   "outputs": [],
   "source": [
    "#Defining X and y\n",
    "X3 = dataset.iloc[:,[2, 3, 7, 8, 61]].values\n",
    "y3 = dataset.iloc[:, -1].values"
   ]
  },
  {
   "cell_type": "code",
   "execution_count": 27,
   "id": "57cb287e",
   "metadata": {},
   "outputs": [
    {
     "data": {
      "text/plain": [
       "array([0, 0, 0, ..., 0, 2, 0])"
      ]
     },
     "execution_count": 27,
     "metadata": {},
     "output_type": "execute_result"
    }
   ],
   "source": [
    "y3"
   ]
  },
  {
   "cell_type": "code",
   "execution_count": 28,
   "id": "513f02e8",
   "metadata": {},
   "outputs": [],
   "source": [
    "# Splitting the dataset into the Training set and Test set\n",
    "from sklearn.model_selection import train_test_split\n",
    "X3_train, X3_test, y3_train, y3_test = train_test_split(X3, y3, test_size = 0.25, random_state = 0)"
   ]
  },
  {
   "cell_type": "code",
   "execution_count": 29,
   "id": "d878caa3",
   "metadata": {},
   "outputs": [],
   "source": [
    "# Feature Scaling\n",
    "from sklearn.preprocessing import StandardScaler\n",
    "sc = StandardScaler()\n",
    "X3_train = sc.fit_transform(X3_train)\n",
    "X3_test = sc.transform(X3_test)"
   ]
  },
  {
   "cell_type": "code",
   "execution_count": 30,
   "id": "ed5852cd",
   "metadata": {},
   "outputs": [
    {
     "data": {
      "text/plain": [
       "KNeighborsClassifier()"
      ]
     },
     "execution_count": 30,
     "metadata": {},
     "output_type": "execute_result"
    }
   ],
   "source": [
    "# Training the K-NN model\n",
    "from sklearn.neighbors import KNeighborsClassifier\n",
    "classifier = KNeighborsClassifier(n_neighbors = 5, metric = 'minkowski', p = 2)\n",
    "classifier.fit(X3_train, y3_train)"
   ]
  },
  {
   "cell_type": "code",
   "execution_count": 31,
   "id": "0e52ed92",
   "metadata": {},
   "outputs": [
    {
     "name": "stdout",
     "output_type": "stream",
     "text": [
      "[[2 2]\n",
      " [0 0]\n",
      " [2 2]\n",
      " ...\n",
      " [2 2]\n",
      " [2 2]\n",
      " [2 2]]\n"
     ]
    }
   ],
   "source": [
    "# Predicting the Test set results\n",
    "y3_pred = classifier.predict(X3_test)\n",
    "print(np.concatenate((y3_pred.reshape(len(y3_pred),1), y3_test.reshape(len(y3_test),1)),1))"
   ]
  },
  {
   "cell_type": "code",
   "execution_count": 32,
   "id": "76e88e3b",
   "metadata": {},
   "outputs": [
    {
     "name": "stdout",
     "output_type": "stream",
     "text": [
      "[[6747    0    2]\n",
      " [   0  426    4]\n",
      " [   0    1 2731]]\n"
     ]
    },
    {
     "data": {
      "text/plain": [
       "0.9992937140550903"
      ]
     },
     "execution_count": 32,
     "metadata": {},
     "output_type": "execute_result"
    }
   ],
   "source": [
    "from sklearn.metrics import confusion_matrix, accuracy_score\n",
    "cm = confusion_matrix(y3_test, y3_pred)\n",
    "print(cm)\n",
    "accuracy_score(y3_test, y3_pred)"
   ]
  },
  {
   "cell_type": "code",
   "execution_count": 33,
   "id": "7c2f549f",
   "metadata": {},
   "outputs": [
    {
     "name": "stdout",
     "output_type": "stream",
     "text": [
      "It would belong to segment  [1]\n"
     ]
    }
   ],
   "source": [
    "#MAKING PREDICTION: What category would be in a publication that has 20 letters in the title and 1000 words in the content\n",
    "\n",
    "print('It would belong to segment ', classifier.predict([[20,1000,5,10, 744]]))"
   ]
  },
  {
   "cell_type": "markdown",
   "id": "0ebd395c",
   "metadata": {},
   "source": [
    "# Reinforcement learning model: Thompson Sampling"
   ]
  },
  {
   "cell_type": "code",
   "execution_count": 34,
   "id": "384cd4b6",
   "metadata": {},
   "outputs": [],
   "source": [
    "#Importing dataset\n",
    "\n",
    "new = pd.read_csv('C:/Users/miant/Desktop/Python/Mashable_news.csv')"
   ]
  },
  {
   "cell_type": "code",
   "execution_count": 35,
   "id": "f3037ba0",
   "metadata": {},
   "outputs": [
    {
     "data": {
      "text/html": [
       "<div>\n",
       "<style scoped>\n",
       "    .dataframe tbody tr th:only-of-type {\n",
       "        vertical-align: middle;\n",
       "    }\n",
       "\n",
       "    .dataframe tbody tr th {\n",
       "        vertical-align: top;\n",
       "    }\n",
       "\n",
       "    .dataframe thead th {\n",
       "        text-align: right;\n",
       "    }\n",
       "</style>\n",
       "<table border=\"1\" class=\"dataframe\">\n",
       "  <thead>\n",
       "    <tr style=\"text-align: right;\">\n",
       "      <th></th>\n",
       "      <th>weekday_is_monday</th>\n",
       "      <th>weekday_is_tuesday</th>\n",
       "      <th>weekday_is_wednesday</th>\n",
       "      <th>weekday_is_thursday</th>\n",
       "      <th>weekday_is_friday</th>\n",
       "      <th>weekday_is_saturday</th>\n",
       "      <th>weekday_is_sunday</th>\n",
       "    </tr>\n",
       "  </thead>\n",
       "  <tbody>\n",
       "    <tr>\n",
       "      <th>0</th>\n",
       "      <td>1</td>\n",
       "      <td>0</td>\n",
       "      <td>0</td>\n",
       "      <td>0</td>\n",
       "      <td>0</td>\n",
       "      <td>0</td>\n",
       "      <td>0</td>\n",
       "    </tr>\n",
       "    <tr>\n",
       "      <th>1</th>\n",
       "      <td>1</td>\n",
       "      <td>0</td>\n",
       "      <td>0</td>\n",
       "      <td>0</td>\n",
       "      <td>0</td>\n",
       "      <td>0</td>\n",
       "      <td>0</td>\n",
       "    </tr>\n",
       "    <tr>\n",
       "      <th>2</th>\n",
       "      <td>1</td>\n",
       "      <td>0</td>\n",
       "      <td>0</td>\n",
       "      <td>0</td>\n",
       "      <td>0</td>\n",
       "      <td>0</td>\n",
       "      <td>0</td>\n",
       "    </tr>\n",
       "    <tr>\n",
       "      <th>3</th>\n",
       "      <td>1</td>\n",
       "      <td>0</td>\n",
       "      <td>0</td>\n",
       "      <td>0</td>\n",
       "      <td>0</td>\n",
       "      <td>0</td>\n",
       "      <td>0</td>\n",
       "    </tr>\n",
       "    <tr>\n",
       "      <th>4</th>\n",
       "      <td>1</td>\n",
       "      <td>0</td>\n",
       "      <td>0</td>\n",
       "      <td>0</td>\n",
       "      <td>0</td>\n",
       "      <td>0</td>\n",
       "      <td>0</td>\n",
       "    </tr>\n",
       "  </tbody>\n",
       "</table>\n",
       "</div>"
      ],
      "text/plain": [
       "    weekday_is_monday   weekday_is_tuesday   weekday_is_wednesday  \\\n",
       "0                   1                    0                      0   \n",
       "1                   1                    0                      0   \n",
       "2                   1                    0                      0   \n",
       "3                   1                    0                      0   \n",
       "4                   1                    0                      0   \n",
       "\n",
       "    weekday_is_thursday   weekday_is_friday   weekday_is_saturday  \\\n",
       "0                     0                   0                     0   \n",
       "1                     0                   0                     0   \n",
       "2                     0                   0                     0   \n",
       "3                     0                   0                     0   \n",
       "4                     0                   0                     0   \n",
       "\n",
       "    weekday_is_sunday  \n",
       "0                   0  \n",
       "1                   0  \n",
       "2                   0  \n",
       "3                   0  \n",
       "4                   0  "
      ]
     },
     "execution_count": 35,
     "metadata": {},
     "output_type": "execute_result"
    }
   ],
   "source": [
    "new.head()"
   ]
  },
  {
   "cell_type": "code",
   "execution_count": 36,
   "id": "59803201",
   "metadata": {},
   "outputs": [
    {
     "data": {
      "text/plain": [
       "(39644, 7)"
      ]
     },
     "execution_count": 36,
     "metadata": {},
     "output_type": "execute_result"
    }
   ],
   "source": [
    "new.shape"
   ]
  },
  {
   "cell_type": "code",
   "execution_count": 37,
   "id": "3ab13a41",
   "metadata": {},
   "outputs": [],
   "source": [
    "import random\n",
    "\n",
    "N = 39644 #number of users who were exposed to the article\n",
    "d = 7 #number of days that we post the article"
   ]
  },
  {
   "cell_type": "code",
   "execution_count": 38,
   "id": "45ac0538",
   "metadata": {},
   "outputs": [],
   "source": [
    "arts_selected = [] \n",
    "numbers_of_rewards_1 = [0] * d \n",
    "numbers_of_rewards_0 = [0] * d \n",
    "total_reward = 0 \n",
    "\n",
    "for n in range(0, N): \n",
    "    art = 0 \n",
    "    max_random = 0 \n",
    "        \n",
    "#We start the second for loop\n",
    "\n",
    "    for i in range(0, d): #here we go from 0 till the nimber of ads\n",
    "        random_beta = random.betavariate(numbers_of_rewards_1[i] + 1, numbers_of_rewards_0[i] + 1) \n",
    "        if random_beta > max_random: \n",
    "            max_random = random_beta \n",
    "            art = i \n",
    "    \n",
    "    arts_selected.append(art) #\n",
    "    reward = new.values[n, art] \n",
    "    \n",
    "    if reward == 1: \n",
    "        numbers_of_rewards_1[art] = numbers_of_rewards_1[art] + 1 #the reward is 1\n",
    "    else:\n",
    "        numbers_of_rewards_0[art] = numbers_of_rewards_0[art] + 1 #the reward is 0\n",
    "        \n",
    "    total_reward = total_reward + reward #0 where we started + the accumulated rewards"
   ]
  },
  {
   "cell_type": "code",
   "execution_count": 40,
   "id": "493cb454",
   "metadata": {},
   "outputs": [
    {
     "data": {
      "image/png": "[encoded data removed]",
      "text/plain": [
       "<Figure size 432x288 with 1 Axes>"
      ]
     },
     "metadata": {
      "needs_background": "light"
     },
     "output_type": "display_data"
    }
   ],
   "source": [
    "#Visualisation \n",
    "import seaborn as sns\n",
    "\n",
    "ax = sns.histplot(arts_selected)\n",
    "plt.title('Articles/readers per day')\n",
    "plt.xlabel('Day')\n",
    "plt.ylabel('Number of readers per day')\n",
    "plt.show()"
   ]
  },
  {
   "cell_type": "code",
   "execution_count": null,
   "id": "a0e8e520",
   "metadata": {},
   "outputs": [],
   "source": [
    "dataset['Popularity'].value_counts()"
   ]
  },
  {
   "cell_type": "code",
   "execution_count": null,
   "id": "16391fc8",
   "metadata": {},
   "outputs": [],
   "source": [
    "totals = [26752, 11129, 1763]\n",
    "\n",
    "popular = ['Popular','Medium Popular', 'Non Popular']\n",
    "    #1 = medium popular, 2=popular, 3 = non popular"
   ]
  },
  {
   "cell_type": "code",
   "execution_count": null,
   "id": "add65b10",
   "metadata": {},
   "outputs": [],
   "source": [
    "import statistics as stats\n",
    "dataset.describe()"
   ]
  },
  {
   "cell_type": "code",
   "execution_count": null,
   "id": "2e096abc",
   "metadata": {},
   "outputs": [],
   "source": []
  }
 ],
 "metadata": {
  "interpreter": {
   "hash": "aee8b7b246df8f9039afb4144a1f6fd8d2ca17a180786b69acc140d282b71a49"
  },
  "kernelspec": {
   "display_name": "Python 3",
   "language": "python",
   "name": "python3"
  },
  "language_info": {
   "codemirror_mode": {
    "name": "ipython",
    "version": 3
   },
   "file_extension": ".py",
   "mimetype": "text/x-python",
   "name": "python",
   "nbconvert_exporter": "python",
   "pygments_lexer": "ipython3",
   "version": "3.8.8"
  }
 },
 "nbformat": 4,
 "nbformat_minor": 5
}
