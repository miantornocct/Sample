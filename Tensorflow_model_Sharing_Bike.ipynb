{
 "cells": [
  {
   "cell_type": "code",
   "execution_count": 1,
   "metadata": {
    "id": "L_4cpqhYSZ1D"
   },
   "outputs": [],
   "source": [
    "#Import libraries\n",
    "import pandas as pd\n",
    "import numpy as np"
   ]
  },
  {
   "cell_type": "code",
   "execution_count": 2,
   "metadata": {
    "colab": {
     "base_uri": "https://localhost:8080/"
    },
    "id": "R70EEsUpSnj_",
    "outputId": "2a5b427e-f65a-4648-b3be-c2f601edabca"
   },
   "outputs": [
    {
     "name": "stdout",
     "output_type": "stream",
     "text": [
      "Mounted at /content/drive/\n"
     ]
    }
   ],
   "source": [
    "from google.colab import drive\n",
    "drive.mount('/content/drive/')\n",
    "\n",
    "\n"
   ]
  },
  {
   "cell_type": "code",
   "execution_count": 3,
   "metadata": {
    "id": "th3C_DLiSnmf"
   },
   "outputs": [],
   "source": [
    "path = '/content/drive/MyDrive/Colab Datasets/Daily Bike Sharing.csv'"
   ]
  },
  {
   "cell_type": "code",
   "execution_count": 4,
   "metadata": {
    "id": "PTn14lMPSno2"
   },
   "outputs": [],
   "source": [
    "#Importing data\n",
    "data = pd.read_csv(path,index_col = \"dteday\", parse_dates = True)\n"
   ]
  },
  {
   "cell_type": "code",
   "execution_count": 5,
   "metadata": {
    "colab": {
     "base_uri": "https://localhost:8080/",
     "height": 238
    },
    "id": "dx1T_x6ESnrd",
    "outputId": "7dec865f-7e9b-4ded-aa36-dba5182c7a9f"
   },
   "outputs": [
    {
     "data": {
      "text/html": [
       "<div>\n",
       "<style scoped>\n",
       "    .dataframe tbody tr th:only-of-type {\n",
       "        vertical-align: middle;\n",
       "    }\n",
       "\n",
       "    .dataframe tbody tr th {\n",
       "        vertical-align: top;\n",
       "    }\n",
       "\n",
       "    .dataframe thead th {\n",
       "        text-align: right;\n",
       "    }\n",
       "</style>\n",
       "<table border=\"1\" class=\"dataframe\">\n",
       "  <thead>\n",
       "    <tr style=\"text-align: right;\">\n",
       "      <th></th>\n",
       "      <th>cnt</th>\n",
       "      <th>holiday</th>\n",
       "      <th>workingday</th>\n",
       "      <th>weathersit</th>\n",
       "      <th>temp</th>\n",
       "      <th>atemp</th>\n",
       "      <th>hum</th>\n",
       "      <th>windspeed</th>\n",
       "    </tr>\n",
       "    <tr>\n",
       "      <th>dteday</th>\n",
       "      <th></th>\n",
       "      <th></th>\n",
       "      <th></th>\n",
       "      <th></th>\n",
       "      <th></th>\n",
       "      <th></th>\n",
       "      <th></th>\n",
       "      <th></th>\n",
       "    </tr>\n",
       "  </thead>\n",
       "  <tbody>\n",
       "    <tr>\n",
       "      <th>2011-01-01</th>\n",
       "      <td>985</td>\n",
       "      <td>0</td>\n",
       "      <td>0</td>\n",
       "      <td>2</td>\n",
       "      <td>0.344167</td>\n",
       "      <td>0.363625</td>\n",
       "      <td>0.805833</td>\n",
       "      <td>0.160446</td>\n",
       "    </tr>\n",
       "    <tr>\n",
       "      <th>2011-01-02</th>\n",
       "      <td>801</td>\n",
       "      <td>0</td>\n",
       "      <td>0</td>\n",
       "      <td>2</td>\n",
       "      <td>0.363478</td>\n",
       "      <td>0.353739</td>\n",
       "      <td>0.696087</td>\n",
       "      <td>0.248539</td>\n",
       "    </tr>\n",
       "    <tr>\n",
       "      <th>2011-01-03</th>\n",
       "      <td>1349</td>\n",
       "      <td>0</td>\n",
       "      <td>1</td>\n",
       "      <td>1</td>\n",
       "      <td>0.196364</td>\n",
       "      <td>0.189405</td>\n",
       "      <td>0.437273</td>\n",
       "      <td>0.248309</td>\n",
       "    </tr>\n",
       "    <tr>\n",
       "      <th>2011-01-04</th>\n",
       "      <td>1562</td>\n",
       "      <td>0</td>\n",
       "      <td>1</td>\n",
       "      <td>1</td>\n",
       "      <td>0.200000</td>\n",
       "      <td>0.212122</td>\n",
       "      <td>0.590435</td>\n",
       "      <td>0.160296</td>\n",
       "    </tr>\n",
       "    <tr>\n",
       "      <th>2011-01-05</th>\n",
       "      <td>1600</td>\n",
       "      <td>0</td>\n",
       "      <td>1</td>\n",
       "      <td>1</td>\n",
       "      <td>0.226957</td>\n",
       "      <td>0.229270</td>\n",
       "      <td>0.436957</td>\n",
       "      <td>0.186900</td>\n",
       "    </tr>\n",
       "  </tbody>\n",
       "</table>\n",
       "</div>"
      ],
      "text/plain": [
       "             cnt  holiday  workingday  ...     atemp       hum  windspeed\n",
       "dteday                                 ...                               \n",
       "2011-01-01   985        0           0  ...  0.363625  0.805833   0.160446\n",
       "2011-01-02   801        0           0  ...  0.353739  0.696087   0.248539\n",
       "2011-01-03  1349        0           1  ...  0.189405  0.437273   0.248309\n",
       "2011-01-04  1562        0           1  ...  0.212122  0.590435   0.160296\n",
       "2011-01-05  1600        0           1  ...  0.229270  0.436957   0.186900\n",
       "\n",
       "[5 rows x 8 columns]"
      ]
     },
     "execution_count": 5,
     "metadata": {},
     "output_type": "execute_result"
    }
   ],
   "source": [
    "#Select appropriate variables\n",
    "dataset = data.loc[:, [\"cnt\", \"holiday\", \"workingday\", \"weathersit\",\n",
    "                       \"temp\", \"atemp\", \"hum\", \"windspeed\"]]\n",
    "dataset.head(5)                       "
   ]
  },
  {
   "cell_type": "code",
   "execution_count": 6,
   "metadata": {
    "colab": {
     "base_uri": "https://localhost:8080/",
     "height": 238
    },
    "id": "bBIyNJffTRH1",
    "outputId": "c0764c80-8602-42b9-e3ef-e3982bd076cf"
   },
   "outputs": [
    {
     "data": {
      "text/html": [
       "<div>\n",
       "<style scoped>\n",
       "    .dataframe tbody tr th:only-of-type {\n",
       "        vertical-align: middle;\n",
       "    }\n",
       "\n",
       "    .dataframe tbody tr th {\n",
       "        vertical-align: top;\n",
       "    }\n",
       "\n",
       "    .dataframe thead th {\n",
       "        text-align: right;\n",
       "    }\n",
       "</style>\n",
       "<table border=\"1\" class=\"dataframe\">\n",
       "  <thead>\n",
       "    <tr style=\"text-align: right;\">\n",
       "      <th></th>\n",
       "      <th>y</th>\n",
       "      <th>holiday</th>\n",
       "      <th>workingday</th>\n",
       "      <th>weathersit</th>\n",
       "      <th>temp</th>\n",
       "      <th>atemp</th>\n",
       "      <th>hum</th>\n",
       "      <th>windspeed</th>\n",
       "    </tr>\n",
       "    <tr>\n",
       "      <th>dteday</th>\n",
       "      <th></th>\n",
       "      <th></th>\n",
       "      <th></th>\n",
       "      <th></th>\n",
       "      <th></th>\n",
       "      <th></th>\n",
       "      <th></th>\n",
       "      <th></th>\n",
       "    </tr>\n",
       "  </thead>\n",
       "  <tbody>\n",
       "    <tr>\n",
       "      <th>2011-01-01</th>\n",
       "      <td>985</td>\n",
       "      <td>0</td>\n",
       "      <td>0</td>\n",
       "      <td>2</td>\n",
       "      <td>0.344167</td>\n",
       "      <td>0.363625</td>\n",
       "      <td>0.805833</td>\n",
       "      <td>0.160446</td>\n",
       "    </tr>\n",
       "    <tr>\n",
       "      <th>2011-01-02</th>\n",
       "      <td>801</td>\n",
       "      <td>0</td>\n",
       "      <td>0</td>\n",
       "      <td>2</td>\n",
       "      <td>0.363478</td>\n",
       "      <td>0.353739</td>\n",
       "      <td>0.696087</td>\n",
       "      <td>0.248539</td>\n",
       "    </tr>\n",
       "    <tr>\n",
       "      <th>2011-01-03</th>\n",
       "      <td>1349</td>\n",
       "      <td>0</td>\n",
       "      <td>1</td>\n",
       "      <td>1</td>\n",
       "      <td>0.196364</td>\n",
       "      <td>0.189405</td>\n",
       "      <td>0.437273</td>\n",
       "      <td>0.248309</td>\n",
       "    </tr>\n",
       "    <tr>\n",
       "      <th>2011-01-04</th>\n",
       "      <td>1562</td>\n",
       "      <td>0</td>\n",
       "      <td>1</td>\n",
       "      <td>1</td>\n",
       "      <td>0.200000</td>\n",
       "      <td>0.212122</td>\n",
       "      <td>0.590435</td>\n",
       "      <td>0.160296</td>\n",
       "    </tr>\n",
       "    <tr>\n",
       "      <th>2011-01-05</th>\n",
       "      <td>1600</td>\n",
       "      <td>0</td>\n",
       "      <td>1</td>\n",
       "      <td>1</td>\n",
       "      <td>0.226957</td>\n",
       "      <td>0.229270</td>\n",
       "      <td>0.436957</td>\n",
       "      <td>0.186900</td>\n",
       "    </tr>\n",
       "  </tbody>\n",
       "</table>\n",
       "</div>"
      ],
      "text/plain": [
       "               y  holiday  workingday  ...     atemp       hum  windspeed\n",
       "dteday                                 ...                               \n",
       "2011-01-01   985        0           0  ...  0.363625  0.805833   0.160446\n",
       "2011-01-02   801        0           0  ...  0.353739  0.696087   0.248539\n",
       "2011-01-03  1349        0           1  ...  0.189405  0.437273   0.248309\n",
       "2011-01-04  1562        0           1  ...  0.212122  0.590435   0.160296\n",
       "2011-01-05  1600        0           1  ...  0.229270  0.436957   0.186900\n",
       "\n",
       "[5 rows x 8 columns]"
      ]
     },
     "execution_count": 6,
     "metadata": {},
     "output_type": "execute_result"
    }
   ],
   "source": [
    "#Rename the dependent variable\n",
    "dataset = dataset.rename(columns = {'cnt' : 'y'})\n",
    "dataset.head(5)"
   ]
  },
  {
   "cell_type": "code",
   "execution_count": 7,
   "metadata": {
    "colab": {
     "base_uri": "https://localhost:8080/"
    },
    "id": "RSgdiiEITRKJ",
    "outputId": "f6e1ba28-39ef-4fee-ff1a-98054244c3ca"
   },
   "outputs": [
    {
     "data": {
      "text/plain": [
       "DatetimeIndex(['2011-01-01', '2011-01-02', '2011-01-03', '2011-01-04',\n",
       "               '2011-01-05', '2011-01-06', '2011-01-07', '2011-01-08',\n",
       "               '2011-01-09', '2011-01-10',\n",
       "               ...\n",
       "               '2012-12-22', '2012-12-23', '2012-12-24', '2012-12-25',\n",
       "               '2012-12-26', '2012-12-27', '2012-12-28', '2012-12-29',\n",
       "               '2012-12-30', '2012-12-31'],\n",
       "              dtype='datetime64[ns]', name='dteday', length=731, freq='D')"
      ]
     },
     "execution_count": 7,
     "metadata": {},
     "output_type": "execute_result"
    }
   ],
   "source": [
    "#Modify index to daily frequency\n",
    "dataset = dataset.asfreq(\"D\")\n",
    "dataset.index"
   ]
  },
  {
   "cell_type": "code",
   "execution_count": 8,
   "metadata": {
    "colab": {
     "base_uri": "https://localhost:8080/",
     "height": 471
    },
    "id": "WcrSbg36TRMb",
    "outputId": "e0a2cf67-90a3-4c23-83b4-f7d44d0f9380"
   },
   "outputs": [
    {
     "data": {
      "text/plain": [
       "<matplotlib.axes._subplots.AxesSubplot at 0x7f9be3965e10>"
      ]
     },
     "execution_count": 8,
     "metadata": {},
     "output_type": "execute_result"
    },
    {
     "data": {
      "image/png": "[encoded data removed]",
      "text/plain": [
       "<Figure size 720x504 with 1 Axes>"
      ]
     },
     "metadata": {
      "needs_background": "light"
     },
     "output_type": "display_data"
    }
   ],
   "source": [
    "#Visualisation of the data\n",
    "dataset[\"y\"].plot(figsize = (10, 7), legend = True)"
   ]
  },
  {
   "cell_type": "code",
   "execution_count": 9,
   "metadata": {
    "colab": {
     "base_uri": "https://localhost:8080/",
     "height": 143
    },
    "id": "aFbn5mWuTROt",
    "outputId": "f1f5c432-66cd-47dd-e378-eea7cf844d94"
   },
   "outputs": [
    {
     "data": {
      "text/html": [
       "<div>\n",
       "<style scoped>\n",
       "    .dataframe tbody tr th:only-of-type {\n",
       "        vertical-align: middle;\n",
       "    }\n",
       "\n",
       "    .dataframe tbody tr th {\n",
       "        vertical-align: top;\n",
       "    }\n",
       "\n",
       "    .dataframe thead th {\n",
       "        text-align: right;\n",
       "    }\n",
       "</style>\n",
       "<table border=\"1\" class=\"dataframe\">\n",
       "  <thead>\n",
       "    <tr style=\"text-align: right;\">\n",
       "      <th></th>\n",
       "      <th>y</th>\n",
       "      <th>holiday</th>\n",
       "      <th>workingday</th>\n",
       "      <th>weathersit</th>\n",
       "      <th>temp</th>\n",
       "      <th>atemp</th>\n",
       "      <th>hum</th>\n",
       "      <th>windspeed</th>\n",
       "    </tr>\n",
       "    <tr>\n",
       "      <th>dteday</th>\n",
       "      <th></th>\n",
       "      <th></th>\n",
       "      <th></th>\n",
       "      <th></th>\n",
       "      <th></th>\n",
       "      <th></th>\n",
       "      <th></th>\n",
       "      <th></th>\n",
       "    </tr>\n",
       "  </thead>\n",
       "  <tbody>\n",
       "    <tr>\n",
       "      <th>2012-12-30</th>\n",
       "      <td>1796</td>\n",
       "      <td>0</td>\n",
       "      <td>0</td>\n",
       "      <td>1</td>\n",
       "      <td>0.255833</td>\n",
       "      <td>0.231700</td>\n",
       "      <td>0.483333</td>\n",
       "      <td>0.350754</td>\n",
       "    </tr>\n",
       "    <tr>\n",
       "      <th>2012-12-31</th>\n",
       "      <td>2729</td>\n",
       "      <td>0</td>\n",
       "      <td>1</td>\n",
       "      <td>2</td>\n",
       "      <td>0.215833</td>\n",
       "      <td>0.223487</td>\n",
       "      <td>0.577500</td>\n",
       "      <td>0.154846</td>\n",
       "    </tr>\n",
       "  </tbody>\n",
       "</table>\n",
       "</div>"
      ],
      "text/plain": [
       "               y  holiday  workingday  ...     atemp       hum  windspeed\n",
       "dteday                                 ...                               \n",
       "2012-12-30  1796        0           0  ...  0.231700  0.483333   0.350754\n",
       "2012-12-31  2729        0           1  ...  0.223487  0.577500   0.154846\n",
       "\n",
       "[2 rows x 8 columns]"
      ]
     },
     "execution_count": 9,
     "metadata": {},
     "output_type": "execute_result"
    }
   ],
   "source": [
    "#Split the data into training set and test set\n",
    "\n",
    "test_days = 31\n",
    "training_set = dataset.iloc[:-test_days, :]\n",
    "test_set = dataset.iloc[-test_days:, :]\n",
    "test_set.tail(2)"
   ]
  },
  {
   "cell_type": "code",
   "execution_count": 10,
   "metadata": {
    "id": "bRWVvdZkXMLU"
   },
   "outputs": [],
   "source": [
    "#Import special library\n",
    "import tensorflow_probability as tfp"
   ]
  },
  {
   "cell_type": "code",
   "execution_count": 11,
   "metadata": {
    "colab": {
     "base_uri": "https://localhost:8080/",
     "height": 238
    },
    "id": "ZezDCVoXXMN5",
    "outputId": "bf629ee0-538b-4021-daea-b65f5e227143"
   },
   "outputs": [
    {
     "data": {
      "text/html": [
       "<div>\n",
       "<style scoped>\n",
       "    .dataframe tbody tr th:only-of-type {\n",
       "        vertical-align: middle;\n",
       "    }\n",
       "\n",
       "    .dataframe tbody tr th {\n",
       "        vertical-align: top;\n",
       "    }\n",
       "\n",
       "    .dataframe thead th {\n",
       "        text-align: right;\n",
       "    }\n",
       "</style>\n",
       "<table border=\"1\" class=\"dataframe\">\n",
       "  <thead>\n",
       "    <tr style=\"text-align: right;\">\n",
       "      <th></th>\n",
       "      <th>holiday</th>\n",
       "      <th>workingday</th>\n",
       "      <th>weathersit</th>\n",
       "      <th>temp</th>\n",
       "      <th>atemp</th>\n",
       "      <th>hum</th>\n",
       "      <th>windspeed</th>\n",
       "    </tr>\n",
       "    <tr>\n",
       "      <th>dteday</th>\n",
       "      <th></th>\n",
       "      <th></th>\n",
       "      <th></th>\n",
       "      <th></th>\n",
       "      <th></th>\n",
       "      <th></th>\n",
       "      <th></th>\n",
       "    </tr>\n",
       "  </thead>\n",
       "  <tbody>\n",
       "    <tr>\n",
       "      <th>2011-01-01</th>\n",
       "      <td>0</td>\n",
       "      <td>0</td>\n",
       "      <td>2</td>\n",
       "      <td>0.344167</td>\n",
       "      <td>0.363625</td>\n",
       "      <td>0.805833</td>\n",
       "      <td>0.160446</td>\n",
       "    </tr>\n",
       "    <tr>\n",
       "      <th>2011-01-02</th>\n",
       "      <td>0</td>\n",
       "      <td>0</td>\n",
       "      <td>2</td>\n",
       "      <td>0.363478</td>\n",
       "      <td>0.353739</td>\n",
       "      <td>0.696087</td>\n",
       "      <td>0.248539</td>\n",
       "    </tr>\n",
       "    <tr>\n",
       "      <th>2011-01-03</th>\n",
       "      <td>0</td>\n",
       "      <td>1</td>\n",
       "      <td>1</td>\n",
       "      <td>0.196364</td>\n",
       "      <td>0.189405</td>\n",
       "      <td>0.437273</td>\n",
       "      <td>0.248309</td>\n",
       "    </tr>\n",
       "    <tr>\n",
       "      <th>2011-01-04</th>\n",
       "      <td>0</td>\n",
       "      <td>1</td>\n",
       "      <td>1</td>\n",
       "      <td>0.200000</td>\n",
       "      <td>0.212122</td>\n",
       "      <td>0.590435</td>\n",
       "      <td>0.160296</td>\n",
       "    </tr>\n",
       "    <tr>\n",
       "      <th>2011-01-05</th>\n",
       "      <td>0</td>\n",
       "      <td>1</td>\n",
       "      <td>1</td>\n",
       "      <td>0.226957</td>\n",
       "      <td>0.229270</td>\n",
       "      <td>0.436957</td>\n",
       "      <td>0.186900</td>\n",
       "    </tr>\n",
       "  </tbody>\n",
       "</table>\n",
       "</div>"
      ],
      "text/plain": [
       "            holiday  workingday  weathersit  ...     atemp       hum  windspeed\n",
       "dteday                                       ...                               \n",
       "2011-01-01        0           0           2  ...  0.363625  0.805833   0.160446\n",
       "2011-01-02        0           0           2  ...  0.353739  0.696087   0.248539\n",
       "2011-01-03        0           1           1  ...  0.189405  0.437273   0.248309\n",
       "2011-01-04        0           1           1  ...  0.212122  0.590435   0.160296\n",
       "2011-01-05        0           1           1  ...  0.229270  0.436957   0.186900\n",
       "\n",
       "[5 rows x 7 columns]"
      ]
     },
     "execution_count": 11,
     "metadata": {},
     "output_type": "execute_result"
    }
   ],
   "source": [
    "#Isolate the regressors\n",
    "exog = dataset.iloc[:,1:]\n",
    "exog.head()"
   ]
  },
  {
   "cell_type": "code",
   "execution_count": 12,
   "metadata": {
    "colab": {
     "base_uri": "https://localhost:8080/"
    },
    "id": "nhK6GAWTXMQL",
    "outputId": "2a575148-52ab-459c-f98f-5fa0e9d37bd7"
   },
   "outputs": [
    {
     "data": {
      "text/plain": [
       "matrix([[0.      , 0.      , 2.      , 0.344167, 0.363625, 0.805833,\n",
       "         0.160446]])"
      ]
     },
     "execution_count": 12,
     "metadata": {},
     "output_type": "execute_result"
    }
   ],
   "source": [
    "#We need to give the result the shape of a matrix and ensure the numbers are float and not int\n",
    "exog = np.asmatrix(dataset.iloc[:,1:].astype(np.float64))\n",
    "exog[:1]"
   ]
  },
  {
   "cell_type": "code",
   "execution_count": null,
   "metadata": {
    "id": "X6Wxp2_AXMSg"
   },
   "outputs": [],
   "source": [
    "#Building the Linear Regression model"
   ]
  },
  {
   "cell_type": "code",
   "execution_count": 13,
   "metadata": {
    "id": "OuHK4GLEXMU2"
   },
   "outputs": [],
   "source": [
    "regressors = tfp.sts.LinearRegression(design_matrix = exog, name = 'regressors')"
   ]
  },
  {
   "cell_type": "code",
   "execution_count": 14,
   "metadata": {
    "colab": {
     "base_uri": "https://localhost:8080/"
    },
    "id": "ozfcvCI1ZFKw",
    "outputId": "588fc032-7793-4eb7-dfdc-3d791638e704"
   },
   "outputs": [
    {
     "data": {
      "text/plain": [
       "dteday\n",
       "2011-01-01     985.0\n",
       "2011-01-02     801.0\n",
       "2011-01-03    1349.0\n",
       "2011-01-04    1562.0\n",
       "2011-01-05    1600.0\n",
       "Freq: D, Name: y, dtype: float64"
      ]
     },
     "execution_count": 14,
     "metadata": {},
     "output_type": "execute_result"
    }
   ],
   "source": [
    "#Focus on the seasonality --> we isolate the dependent variable\n",
    "y = training_set['y'].astype(np.float64)\n",
    "y[:5]\n"
   ]
  },
  {
   "cell_type": "code",
   "execution_count": 15,
   "metadata": {
    "colab": {
     "base_uri": "https://localhost:8080/"
    },
    "id": "amvDBR9tZFNP",
    "outputId": "82c9d69a-0157-43db-f38c-fe84f091de3b"
   },
   "outputs": [
    {
     "name": "stdout",
     "output_type": "stream",
     "text": [
      "WARNING:tensorflow:From /usr/local/lib/python3.7/dist-packages/tensorflow/python/ops/linalg/linear_operator_composition.py:182: LinearOperator.graph_parents (from tensorflow.python.ops.linalg.linear_operator) is deprecated and will be removed in a future version.\n",
      "Instructions for updating:\n",
      "Do not call `graph_parents`.\n",
      "WARNING:tensorflow:From /usr/local/lib/python3.7/dist-packages/tensorflow_probability/python/distributions/distribution.py:342: MultivariateNormalFullCovariance.__init__ (from tensorflow_probability.python.distributions.mvn_full_covariance) is deprecated and will be removed after 2019-12-01.\n",
      "Instructions for updating:\n",
      "`MultivariateNormalFullCovariance` is deprecated, use `MultivariateNormalTriL(loc=loc, scale_tril=tf.linalg.cholesky(covariance_matrix))` instead.\n"
     ]
    }
   ],
   "source": [
    "#Weekly seasonality\n",
    "weekday_effect = tfp.sts.Seasonal(num_seasons = 7, # 7 days in a week\n",
    "                                  num_steps_per_season = 1, #daily data then 1, if it was hourly data it would be 24\n",
    "                                  observed_time_series = y,#the dependent variavle\n",
    "                                  name = \"weekday_effect\")"
   ]
  },
  {
   "cell_type": "code",
   "execution_count": 16,
   "metadata": {
    "id": "TlnZ1hgzZFUP"
   },
   "outputs": [],
   "source": [
    "#Monthly seasonality\n",
    "num_days_per_month = np.array(\n",
    "    [[31, 28, 31, 30, 31, 30, 31, 31, 30, 31, 30, 31], #2011\n",
    "     [31, 29, 31, 30, 31, 30, 31, 31, 30, 31, 30, 31]]) # 2012"
   ]
  },
  {
   "cell_type": "code",
   "execution_count": 17,
   "metadata": {
    "id": "Rw118KL5cGfB"
   },
   "outputs": [],
   "source": [
    "#Monthly seasonality\n",
    "monthly_effect = tfp.sts.Seasonal(num_seasons = 12, #12 months a year\n",
    "                                  num_steps_per_season = num_days_per_month,# we described in previous step\n",
    "                                  observed_time_series = y,\n",
    "                                  name = \"monthly_effect\")"
   ]
  },
  {
   "cell_type": "code",
   "execution_count": 18,
   "metadata": {
    "id": "MQdmldYucGho"
   },
   "outputs": [],
   "source": [
    "#Trend components and Auto Regressive\n",
    "\n",
    "#Trends\n",
    "trend = tfp.sts.LocalLinearTrend(observed_time_series=y,\n",
    "                                 name = \"trend\")\n"
   ]
  },
  {
   "cell_type": "code",
   "execution_count": 19,
   "metadata": {
    "id": "G_4usIoIc7Kf"
   },
   "outputs": [],
   "source": [
    "#Auto Regressive\n",
    "autoregressive = tfp.sts.Autoregressive(order = 1,#lagged. Start with 1 and then change it if needed \n",
    "                                        observed_time_series = y,\n",
    "                                        name = \"autoregressive\")"
   ]
  },
  {
   "cell_type": "code",
   "execution_count": 20,
   "metadata": {
    "id": "XUZGD1sdc7NE"
   },
   "outputs": [],
   "source": [
    "#Tensorflow Structural Time Series\n",
    "#Forecasting model\n",
    "model = tfp.sts.Sum([regressors,#components are in brackets\n",
    "                     weekday_effect,\n",
    "                     monthly_effect,\n",
    "                     autoregressive,\n",
    "                     trend],\n",
    "                    observed_time_series = y)"
   ]
  },
  {
   "cell_type": "code",
   "execution_count": 21,
   "metadata": {
    "colab": {
     "base_uri": "https://localhost:8080/"
    },
    "id": "rxIYXz2DewjZ",
    "outputId": "131d3bbd-924d-4d1f-9e4b-15e80ce58d30"
   },
   "outputs": [
    {
     "name": "stdout",
     "output_type": "stream",
     "text": [
      "WARNING:tensorflow:From /usr/local/lib/python3.7/dist-packages/tensorflow_probability/python/sts/fitting.py:375: StructuralTimeSeries.joint_log_prob (from tensorflow_probability.python.sts.structural_time_series) is deprecated and will be removed after 2022-03-01.\n",
      "Instructions for updating:\n",
      "Please use `StructuralTimeSeries.joint_distribution(observed_time_series).log_prob`\n",
      "WARNING:tensorflow:@custom_gradient grad_fn has 'variables' in signature, but no ResourceVariables were used on the forward pass.\n",
      "WARNING:tensorflow:@custom_gradient grad_fn has 'variables' in signature, but no ResourceVariables were used on the forward pass.\n",
      "WARNING:tensorflow:@custom_gradient grad_fn has 'variables' in signature, but no ResourceVariables were used on the forward pass.\n",
      "WARNING:tensorflow:@custom_gradient grad_fn has 'variables' in signature, but no ResourceVariables were used on the forward pass.\n",
      "WARNING:tensorflow:@custom_gradient grad_fn has 'variables' in signature, but no ResourceVariables were used on the forward pass.\n"
     ]
    },
    {
     "name": "stderr",
     "output_type": "stream",
     "text": [
      "/usr/local/lib/python3.7/dist-packages/tensorflow_probability/python/mcmc/sample.py:339: UserWarning: Tracing all kernel results by default is deprecated. Set the `trace_fn` argument to None (the future default value) or an explicit callback that traces the values you are interested in.\n",
      "  warnings.warn('Tracing all kernel results by default is deprecated. Set '\n"
     ]
    },
    {
     "name": "stdout",
     "output_type": "stream",
     "text": [
      "WARNING:tensorflow:@custom_gradient grad_fn has 'variables' in signature, but no ResourceVariables were used on the forward pass.\n"
     ]
    }
   ],
   "source": [
    "#Fit the model with HMC\n",
    "samples, kernel_results = tfp.sts.fit_with_hmc(model = model,\n",
    "                                               observed_time_series = y,\n",
    "                                               num_results = 100,\n",
    "                                               num_warmup_steps = 50,\n",
    "                                               num_leapfrog_steps = 15,\n",
    "                                               num_variational_steps = 150,\n",
    "                                               seed = 1502)"
   ]
  },
  {
   "cell_type": "code",
   "execution_count": 22,
   "metadata": {
    "id": "7Wm19bKaewqt"
   },
   "outputs": [],
   "source": [
    "#Forecasting\n",
    "forecast = tfp.sts.forecast(model = model,\n",
    "                            observed_time_series = y,\n",
    "                            parameter_samples = samples,\n",
    "                            num_steps_forecast = len(test_set))"
   ]
  },
  {
   "cell_type": "code",
   "execution_count": 24,
   "metadata": {
    "colab": {
     "base_uri": "https://localhost:8080/"
    },
    "id": "opB1ChUPewti",
    "outputId": "f72dca5b-2a8c-467b-c6ed-aa55dd89a5ad"
   },
   "outputs": [
    {
     "data": {
      "text/plain": [
       "<tf.Tensor: shape=(31, 1), dtype=float64, numpy=\n",
       "array([[4210.88870137],\n",
       "       [3463.17097189],\n",
       "       [4391.65302653],\n",
       "       [4466.98728982],\n",
       "       [4626.41400701],\n",
       "       [4608.76228869],\n",
       "       [3780.89595007],\n",
       "       [3708.18880956],\n",
       "       [3129.95173983],\n",
       "       [3311.53406664],\n",
       "       [3409.84791765],\n",
       "       [3578.14903421],\n",
       "       [4373.04302091],\n",
       "       [4354.77209101],\n",
       "       [4282.67644529],\n",
       "       [2896.22719093],\n",
       "       [3077.81028968],\n",
       "       [3984.922636  ],\n",
       "       [4153.01501636],\n",
       "       [3331.01190755],\n",
       "       [3312.6912096 ],\n",
       "       [4048.63293086],\n",
       "       [3470.88616716],\n",
       "       [2843.7005693 ],\n",
       "       [2939.96600276],\n",
       "       [2301.72770509],\n",
       "       [3096.78650737],\n",
       "       [3079.01906837],\n",
       "       [3006.53110339],\n",
       "       [3237.04221234],\n",
       "       [2610.13944844]])>"
      ]
     },
     "execution_count": 24,
     "metadata": {},
     "output_type": "execute_result"
    }
   ],
   "source": [
    "#Predictions\n",
    "forecast.mean()"
   ]
  },
  {
   "cell_type": "code",
   "execution_count": 26,
   "metadata": {
    "colab": {
     "base_uri": "https://localhost:8080/"
    },
    "id": "LeWmnNSIc7Pu",
    "outputId": "dfce19b2-32b9-45fa-a2fa-4b22ddf4328e"
   },
   "outputs": [
    {
     "data": {
      "text/plain": [
       "0     4210.888701\n",
       "1     3463.170972\n",
       "2     4391.653027\n",
       "3     4466.987290\n",
       "4     4626.414007\n",
       "5     4608.762289\n",
       "6     3780.895950\n",
       "7     3708.188810\n",
       "8     3129.951740\n",
       "9     3311.534067\n",
       "10    3409.847918\n",
       "11    3578.149034\n",
       "12    4373.043021\n",
       "13    4354.772091\n",
       "14    4282.676445\n",
       "15    2896.227191\n",
       "16    3077.810290\n",
       "17    3984.922636\n",
       "18    4153.015016\n",
       "19    3331.011908\n",
       "20    3312.691210\n",
       "21    4048.632931\n",
       "22    3470.886167\n",
       "23    2843.700569\n",
       "24    2939.966003\n",
       "25    2301.727705\n",
       "26    3096.786507\n",
       "27    3079.019068\n",
       "28    3006.531103\n",
       "29    3237.042212\n",
       "30    2610.139448\n",
       "Name: TFP, dtype: float64"
      ]
     },
     "execution_count": 26,
     "metadata": {},
     "output_type": "execute_result"
    }
   ],
   "source": [
    "#We need to create a frame for these results\n",
    "pd.Series(forecast.mean()[:,0], name = \"TFP\") \n"
   ]
  },
  {
   "cell_type": "code",
   "execution_count": 27,
   "metadata": {
    "colab": {
     "base_uri": "https://localhost:8080/"
    },
    "id": "LnU3RyRGc7Sp",
    "outputId": "a7963e37-cde5-45cf-d602-fc6c83b4e8e0"
   },
   "outputs": [
    {
     "data": {
      "text/plain": [
       "dteday\n",
       "2012-12-01    4210.888701\n",
       "2012-12-02    3463.170972\n",
       "Freq: D, Name: TFP, dtype: float64"
      ]
     },
     "execution_count": 27,
     "metadata": {},
     "output_type": "execute_result"
    }
   ],
   "source": [
    "#We save these predictions giving it a frame\n",
    "#predictions\n",
    "predictions_tfp = pd.Series(forecast.mean()[:,0], name = \"TFP\")\n",
    "predictions_tfp.index = test_set.index\n",
    "predictions_tfp[:2]"
   ]
  },
  {
   "cell_type": "code",
   "execution_count": 28,
   "metadata": {
    "colab": {
     "base_uri": "https://localhost:8080/",
     "height": 418
    },
    "id": "W5QYaSZRcGjw",
    "outputId": "0bd5b5a1-3f0c-494e-9b0e-19d3e46668c8"
   },
   "outputs": [
    {
     "data": {
      "text/plain": [
       "<matplotlib.axes._subplots.AxesSubplot at 0x7f9b5d9753d0>"
      ]
     },
     "execution_count": 28,
     "metadata": {},
     "output_type": "execute_result"
    },
    {
     "data": {
      "image/png": "[encoded data removed]",
      "text/plain": [
       "<Figure size 648x432 with 1 Axes>"
      ]
     },
     "metadata": {
      "needs_background": "light"
     },
     "output_type": "display_data"
    }
   ],
   "source": [
    "#Visualisation\n",
    "training_set['y']['2012-07-01':].plot(figsize = (9,6), legend = True)\n",
    "test_set['y'].plot(legend = True)\n",
    "predictions_tfp.plot(legend = True)"
   ]
  },
  {
   "cell_type": "code",
   "execution_count": 29,
   "metadata": {
    "colab": {
     "base_uri": "https://localhost:8080/"
    },
    "id": "bap8qVy0cGmN",
    "outputId": "bb4f046b-3dea-451c-8c94-c03fb82bb456"
   },
   "outputs": [
    {
     "data": {
      "text/plain": [
       "58.14698229735821"
      ]
     },
     "execution_count": 29,
     "metadata": {},
     "output_type": "execute_result"
    }
   ],
   "source": [
    "#MAPE to assess the model\n",
    "def MAPE(y_true, y_pred):\n",
    "  y_true, y_pred = np.array(y_true), np.array(y_pred)\n",
    "  return np.mean(np.abs((y_true - y_pred) / y_true)) * 100\n",
    "MAPE(test_set['y'], predictions_tfp)"
   ]
  },
  {
   "cell_type": "code",
   "execution_count": null,
   "metadata": {
    "id": "IyLlCeb0ZFW2"
   },
   "outputs": [],
   "source": []
  }
 ],
 "metadata": {
  "colab": {
   "name": "Tensorflow_model.ipynb",
   "provenance": []
  },
  "kernelspec": {
   "display_name": "Python 3",
   "language": "python",
   "name": "python3"
  },
  "language_info": {
   "codemirror_mode": {
    "name": "ipython",
    "version": 3
   },
   "file_extension": ".py",
   "mimetype": "text/x-python",
   "name": "python",
   "nbconvert_exporter": "python",
   "pygments_lexer": "ipython3",
   "version": "3.8.8"
  }
 },
 "nbformat": 4,
 "nbformat_minor": 1
}
